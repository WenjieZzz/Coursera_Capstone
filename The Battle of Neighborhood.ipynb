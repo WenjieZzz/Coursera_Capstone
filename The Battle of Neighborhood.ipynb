{
    "nbformat_minor": 1, 
    "cells": [
        {
            "source": "# The Battle of Neighborhoods (Week 1)", 
            "cell_type": "markdown", 
            "metadata": {
                "collapsed": true
            }
        }, 
        {
            "source": "## 1. Introduction - Business Problem", 
            "cell_type": "markdown", 
            "metadata": {}
        }, 
        {
            "source": "As the financial capital of Canada, Toronto has witnessed a rapidly growing population of immigrants. Finding a place to stay comes on the top of the list for most of them. And with regards to choosing a place to live, despite the price, convenience of the location becomes the first concern. Talking about the convenience of a place, different people may have various opinions depending on their age, marital status, background etc.\n\nYoung people may like to be surrounded by restaurants, cafes and bars. Family with little children will probably like a neighbourhood with accessible grocery stores and museums better. While the elders may find a place close to a hospital is convenient.\n\nThus, illustration of what kind of venues are in a certain neighbourhood, may give some guidance for people when they are choosing a place to live at.", 
            "cell_type": "markdown", 
            "metadata": {}
        }, 
        {
            "source": "## 2. Data source and util", 
            "cell_type": "markdown", 
            "metadata": {}
        }, 
        {
            "execution_count": null, 
            "cell_type": "code", 
            "metadata": {}, 
            "outputs": [], 
            "source": "This report will be based on Toronto neighbourhoods segmentation from previous work. https://github.com/WenjieZzz/Coursera_Capstone/blob/master/Segmenting%20and%20clustering%20neighhoods%20.ipynb\nAnd I will utilize FourSquare API to analyse each neighbourhoods' convenience by counting the number of restraurants, stores, hospitals and etc. "
        }
    ], 
    "metadata": {
        "kernelspec": {
            "display_name": "Python 3.6", 
            "name": "python3", 
            "language": "python"
        }, 
        "language_info": {
            "mimetype": "text/x-python", 
            "nbconvert_exporter": "python", 
            "version": "3.6.8", 
            "name": "python", 
            "file_extension": ".py", 
            "pygments_lexer": "ipython3", 
            "codemirror_mode": {
                "version": 3, 
                "name": "ipython"
            }
        }
    }, 
    "nbformat": 4
}